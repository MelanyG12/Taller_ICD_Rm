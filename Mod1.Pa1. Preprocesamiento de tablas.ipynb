{
 "cells": [
  {
   "cell_type": "markdown",
   "metadata": {},
   "source": [
    "<img src=\"logo.png\">"
   ]
  },
  {
   "cell_type": "markdown",
   "metadata": {},
   "source": [
    "# Lectura y escritura de archivos csv.\n",
    "\n",
    "Un archivo csv (valores separados por coma) es un archivo de texto que almacena los datos en forma de columnas, separadas por coma y las filas se distinguen por saltos de línea. Son más rápidos de procesar y pueden ser leídos por una gran cantidad de programas.\n"
   ]
  },
  {
   "cell_type": "markdown",
   "metadata": {},
   "source": [
    "Es importante conocer en R cómo dirigirnos a un lugar de trabajo. Para ello, se usa la instrucción\n",
    "\n",
    "``\n",
    "setwd(\"directorio_donde_trabajaremos\")\n",
    "``\n",
    "\n",
    "**Es importante notar el tipo de diagonal con el que se indica la ruta. Este depende del sistema operativo que utilices**.\n",
    "\n",
    "Con la instrucción ``getwd()`` verificamos que efectivamente estemos en el directorio deseado, y con ``dir()`` podemos ver qué archivos se encuentran en ese directorio.\n",
    "\n",
    "En R, para leer un archivo csv se hace con la siguiente instrucción:\n",
    "\n",
    "``\n",
    "read.csv(\"ruta_del_archivo/nombre_del_archivo.csv\")\n",
    "``\n",
    "\n",
    "o bien ``read.csv(\"nombre_del_archivo.csv\")`` si ya te encuetras en el directorio donde está tu archivo.\n",
    "\n",
    "Esta tiene varios parámetros importantes:\n",
    "\n",
    "``head=TRUE`` indica que las columnas tienen nombre.\n",
    "\n",
    "``sep=\",\"`` indica que los separadores entre columnas son comas.\n",
    "\n",
    "``dec=\".\"`` indica que el separador de decimales es un punto.\n",
    "\n",
    "``row.names=1`` indica que la columna 1 del csv contiene los nombres de las filas.\n",
    "\n",
    "\n"
   ]
  },
  {
   "cell_type": "markdown",
   "metadata": {},
   "source": [
    "Una vez leído el csv, algunos comandos importantes para hacer tener una primera impresión de lo que tenemos son los siguientes:\n",
    "\n",
    "``head(nombre)`` nos da los primeros renglones del csv\n",
    "\n",
    "``dim(nombre)``nos dice las dimensiones del csv. El primer resultado es el número de filas y el segundo es el número de columnas.\n",
    "\n",
    "``str(nombre)`` nos dice el tipo de datos que es cada columna.\n",
    "\n",
    "``names(nombre)`` nos da el nombre de las columnas del csv.\n"
   ]
  },
  {
   "cell_type": "markdown",
   "metadata": {},
   "source": [
    "Para guardar un csv en nuestra máquina hacemos lo siguiente:\n",
    "\n",
    "``write.csv(nombre_en_R,\"ruta_donde_queremos_guardar/nombre_que_queremos.csv\")``"
   ]
  },
  {
   "cell_type": "markdown",
   "metadata": {},
   "source": [
    "# Manejo de filas y columnas\n",
    "\n",
    "Una vez que tenemos un csv como objeto de R, podemos accesar a sus elementos de diversas maneras.\n",
    "\n",
    "``nombre[,y]``: si ``y`` es un *vector*, entonces nos devuelve la subtabla de ``nombre`` con las columnas que indica ``y``, junto con todas las filas.\n",
    "\n",
    "Por ejemplo, si ``y=(1,3)`` entonces ``tabla[,y]`` solo contiene las columnas 1 y 3. Y si ``y=(\"col1\",\"col3\")`` entonces ``tabla[,y]`` solo contiene las columnas **cuyos nombres exactos** son ``col1`` y ``col3``.\n",
    "\n",
    "``nombre[x,]`` funciona igual que el anterior, pero ``x`` es el vector de filas que queremos y nos devuelve todas las columnas.\n",
    "\n",
    "De esta manera, ``tabla[x,y]`` nos devuelve las filas ``x`` junto con sus columnas ``y``.\n",
    "\n",
    "Otra forma importante de mandar a llamar las columnas de una tabla, una por una, es con el símbolo ``$``. Por ejemplo, ``tabla$col1`` es la columna de nombre ``col1`` dentro de ``tabla``. Aquí es importante conocer la diferencia entre ``tabla$col1`` y ``tabla[,1]``. Aunque ambas tienen exactamente la misma información, la primera es un vector y la segunda es una tabla de una sola columna. \n",
    "\n",
    "Finalmente, en R la notación ``c(num1:num2)`` significa el listado de números num1, num1+1, num1+2,...,num2. De esta manera, ``x=c(num1:num2)`` indexaría la tabla con los elementos desde num1 hasta num2."
   ]
  },
  {
   "cell_type": "markdown",
   "metadata": {},
   "source": [
    "# Filtros\n",
    "\n",
    "Ya que sabemos extraer subtablas, aprenderemos a filtrar información. Para ello, es conveniente recordar los operadores lógicos de R:\n",
    "\n",
    "``&`` conjunción: **y**. Es verdadero cuando ambas proposiciones lo son.\n",
    "\n",
    "``|`` disynción: **|**. Es verdadero cuando alguna proposición lo es.\n",
    "\n",
    "``!`` negación. Niega el valor de verdad.\n",
    "\n",
    "**Ejemplo**\n",
    "\n",
    "``tabla[,col1>num1]`` es la tabla, con todas sus filas, pero donde los valores de la columna de nombre `col1` son mayores al número ``num1``. El símbolo ``>`` puede cambiarse por ``>=,<,<=,==,!=`` para buscar *mayor o igual, menor, menor o igual, exactamente igual* o *diferente*, respectivamente. Esta sintaxis también se puede usar en las filas.\n",
    "\n",
    "``tabla[,col1>num1 & col2<=num2]`` es la tabla, con todas sus filas, pero donde los valores de la columna de nombre ``col1`` son mayores que ``num1`` y las de ``col2`` son menores o iguales que ``num2``.\n",
    "\n",
    "Incluso para variables nominales podemos utilizar el comando ``%in%``. Por ejemplo, ``tabla[,col1 %in% x]`` será la tabla con todas sus filas pero únicamente donde los valores de la columna ``col1`` sean elementos del vector ``x``.\n"
   ]
  },
  {
   "cell_type": "markdown",
   "metadata": {},
   "source": [
    "# Categorización\n",
    "\n",
    "Podemos dividir información numérica en categorías para poder formar grupos en la información.\n",
    "\n",
    "Para ello, usamos la función ``cut`` cuya sintaxis es\n",
    "\n",
    "``cut(columna,breaks,labels)`` donde\n",
    "\n",
    "``columa`` es la columna con la que vamos a categorizar. Usualmente en formato `$`.\n",
    "\n",
    "``breaks`` número de intervalos en que quieres dividir la información. Si se trata de intevalos en específico, entonces es un vector con los valores que delimitan los intervalos.\n",
    "\n",
    "``labels`` vector de etiquetas con que se categorizará la información.\n",
    "\n",
    "**Ejemplo**\n",
    "\n",
    "Supongamos que queremos dividir en tres intervalos dependiendo de los valores de la columna ``col1`` de ``tabla``. Digamos que la categorización es *alto, medio y bajo*. Entonces\n",
    "\n",
    "``tabla$nva_col <- cut(tabla$col1,breaks=3,labels=c(\"alto\",\"medio\",\"bajo\"))`` hace lo requerido."
   ]
  }
 ],
 "metadata": {
  "kernelspec": {
   "display_name": "R",
   "language": "R",
   "name": "ir"
  },
  "language_info": {
   "codemirror_mode": "r",
   "file_extension": ".r",
   "mimetype": "text/x-r-source",
   "name": "R",
   "pygments_lexer": "r",
   "version": "3.6.1"
  }
 },
 "nbformat": 4,
 "nbformat_minor": 4
}
